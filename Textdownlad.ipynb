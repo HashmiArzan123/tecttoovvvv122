{
  "cells": [
    {
      "cell_type": "markdown",
      "metadata": {
        "id": "view-in-github",
        "colab_type": "text"
      },
      "source": [
        "<a href=\"https://colab.research.google.com/github/yogeshnew5exy/tecttoovvvv/blob/master/Textdownlad.ipynb\" target=\"_parent\"><img src=\"https://colab.research.google.com/assets/colab-badge.svg\" alt=\"Open In Colab\"/></a>"
      ]
    },
    {
      "cell_type": "code",
      "execution_count": null,
      "metadata": {
        "id": "15VzeVr7Wp4n"
      },
      "outputs": [],
      "source": [
        "#@title <<----<strong> Auto Reconnect\n",
        "%%capture\n",
        "import IPython\n",
        "from google.colab import output\n",
        "\n",
        "display(IPython.display.Javascript('''\n",
        "function ClickConnect(){\n",
        "  btn = document.querySelector(\"colab-connect-button\")\n",
        "  if (btn != null){\n",
        "    console.log(\"Click colab-connect-button\");\n",
        "    btn.click()\n",
        "    }\n",
        "\n",
        "  btn = document.getElementById('ok')\n",
        "  if (btn != null){\n",
        "    console.log(\"Click reconnect\");\n",
        "    btn.click()\n",
        "    }\n",
        "  }\n",
        "\n",
        "setInterval(ClickConnect,60000)\n",
        "'''))"
      ]
    },
    {
      "cell_type": "code",
      "execution_count": 1,
      "metadata": {
        "colab": {
          "base_uri": "https://localhost:8080/"
        },
        "id": "BE7RSSrPYDPc",
        "outputId": "1eb278c4-580b-42d7-e40a-0319f98887ff"
      },
      "outputs": [
        {
          "output_type": "stream",
          "name": "stdout",
          "text": [
            "Reading package lists... Done\n",
            "Building dependency tree... Done\n",
            "Reading state information... Done\n",
            "ffmpeg is already the newest version (7:4.4.2-0ubuntu0.22.04.1).\n",
            "The following additional packages will be installed:\n",
            "  libaria2-0 libc-ares2\n",
            "The following NEW packages will be installed:\n",
            "  aria2 libaria2-0 libc-ares2\n",
            "0 upgraded, 3 newly installed, 0 to remove and 24 not upgraded.\n",
            "Need to get 1,513 kB of archives.\n",
            "After this operation, 5,441 kB of additional disk space will be used.\n",
            "Get:1 http://archive.ubuntu.com/ubuntu jammy-updates/main amd64 libc-ares2 amd64 1.18.1-1ubuntu0.22.04.2 [45.0 kB]\n",
            "Get:2 http://archive.ubuntu.com/ubuntu jammy/universe amd64 libaria2-0 amd64 1.36.0-1 [1,086 kB]\n",
            "Get:3 http://archive.ubuntu.com/ubuntu jammy/universe amd64 aria2 amd64 1.36.0-1 [381 kB]\n",
            "Fetched 1,513 kB in 1s (1,976 kB/s)\n",
            "Selecting previously unselected package libc-ares2:amd64.\n",
            "(Reading database ... 121654 files and directories currently installed.)\n",
            "Preparing to unpack .../libc-ares2_1.18.1-1ubuntu0.22.04.2_amd64.deb ...\n",
            "Unpacking libc-ares2:amd64 (1.18.1-1ubuntu0.22.04.2) ...\n",
            "Selecting previously unselected package libaria2-0:amd64.\n",
            "Preparing to unpack .../libaria2-0_1.36.0-1_amd64.deb ...\n",
            "Unpacking libaria2-0:amd64 (1.36.0-1) ...\n",
            "Selecting previously unselected package aria2.\n",
            "Preparing to unpack .../aria2_1.36.0-1_amd64.deb ...\n",
            "Unpacking aria2 (1.36.0-1) ...\n",
            "Setting up libc-ares2:amd64 (1.18.1-1ubuntu0.22.04.2) ...\n",
            "Setting up libaria2-0:amd64 (1.36.0-1) ...\n",
            "Setting up aria2 (1.36.0-1) ...\n",
            "Processing triggers for man-db (2.10.2-1) ...\n",
            "Processing triggers for libc-bin (2.35-0ubuntu3.4) ...\n",
            "/sbin/ldconfig.real: /usr/local/lib/libtbb.so.12 is not a symbolic link\n",
            "\n",
            "/sbin/ldconfig.real: /usr/local/lib/libtbbmalloc_proxy.so.2 is not a symbolic link\n",
            "\n",
            "/sbin/ldconfig.real: /usr/local/lib/libtbbbind_2_0.so.3 is not a symbolic link\n",
            "\n",
            "/sbin/ldconfig.real: /usr/local/lib/libtbbmalloc.so.2 is not a symbolic link\n",
            "\n",
            "/sbin/ldconfig.real: /usr/local/lib/libtbbbind.so.3 is not a symbolic link\n",
            "\n",
            "/sbin/ldconfig.real: /usr/local/lib/libtbbbind_2_5.so.3 is not a symbolic link\n",
            "\n",
            "Cloning into 'tecttoovvvv'...\n",
            "remote: Enumerating objects: 431, done.\u001b[K\n",
            "remote: Counting objects: 100% (180/180), done.\u001b[K\n",
            "remote: Compressing objects: 100% (118/118), done.\u001b[K\n",
            "remote: Total 431 (delta 105), reused 112 (delta 62), pack-reused 251\u001b[K\n",
            "Receiving objects: 100% (431/431), 36.41 MiB | 14.86 MiB/s, done.\n",
            "Resolving deltas: 100% (245/245), done.\n",
            "Updating files: 100% (253/253), done.\n",
            "/content/tecttoovvvv\n"
          ]
        }
      ],
      "source": [
        "!apt install ffmpeg aria2\n",
        "!git clone https://github.com/yogeshnew5exy/tecttoovvvv\n",
        "%cd tecttoovvvv"
      ]
    },
    {
      "cell_type": "code",
      "execution_count": 2,
      "metadata": {
        "colab": {
          "base_uri": "https://localhost:8080/",
          "height": 1000
        },
        "id": "1KPmv52QYMmN",
        "outputId": "ff0487aa-73e0-4bb5-afeb-2e7ab63e3e5a"
      },
      "outputs": [
        {
          "output_type": "stream",
          "name": "stdout",
          "text": [
            "Requirement already satisfied: pip in /usr/local/lib/python3.10/dist-packages (23.1.2)\n",
            "Collecting pip\n",
            "  Downloading pip-23.3.2-py3-none-any.whl (2.1 MB)\n",
            "\u001b[2K     \u001b[90m━━━━━━━━━━━━━━━━━━━━━━━━━━━━━━━━━━━━━━━━\u001b[0m \u001b[32m2.1/2.1 MB\u001b[0m \u001b[31m7.8 MB/s\u001b[0m eta \u001b[36m0:00:00\u001b[0m\n",
            "\u001b[?25hInstalling collected packages: pip\n",
            "  Attempting uninstall: pip\n",
            "    Found existing installation: pip 23.1.2\n",
            "    Uninstalling pip-23.1.2:\n",
            "      Successfully uninstalled pip-23.1.2\n",
            "Successfully installed pip-23.3.2\n",
            "Collecting pyrogram==1.4.16 (from -r ./requirements.txt (line 1))\n",
            "  Downloading Pyrogram-1.4.16-py3-none-any.whl (3.1 MB)\n",
            "\u001b[2K     \u001b[90m━━━━━━━━━━━━━━━━━━━━━━━━━━━━━━━━━━━━━━━━\u001b[0m \u001b[32m3.1/3.1 MB\u001b[0m \u001b[31m10.2 MB/s\u001b[0m eta \u001b[36m0:00:00\u001b[0m\n",
            "\u001b[?25hCollecting tgcrypto (from -r ./requirements.txt (line 2))\n",
            "  Downloading TgCrypto-1.2.5-cp310-cp310-manylinux_2_17_x86_64.manylinux2014_x86_64.whl (59 kB)\n",
            "\u001b[2K     \u001b[90m━━━━━━━━━━━━━━━━━━━━━━━━━━━━━━━━━━━━━━━━\u001b[0m \u001b[32m59.9/59.9 kB\u001b[0m \u001b[31m5.4 MB/s\u001b[0m eta \u001b[36m0:00:00\u001b[0m\n",
            "\u001b[?25hRequirement already satisfied: requests in /usr/local/lib/python3.10/dist-packages (from -r ./requirements.txt (line 3)) (2.31.0)\n",
            "Collecting pyromod==1.5 (from -r ./requirements.txt (line 4))\n",
            "  Downloading pyromod-1.5-py3-none-any.whl (28 kB)\n",
            "Collecting yt-dlp (from -r ./requirements.txt (line 5))\n",
            "  Downloading yt_dlp-2023.12.30-py2.py3-none-any.whl.metadata (160 kB)\n",
            "\u001b[2K     \u001b[90m━━━━━━━━━━━━━━━━━━━━━━━━━━━━━━━━━━━━━━━━\u001b[0m \u001b[32m160.7/160.7 kB\u001b[0m \u001b[31m9.1 MB/s\u001b[0m eta \u001b[36m0:00:00\u001b[0m\n",
            "\u001b[?25hCollecting ffmpeg (from -r ./requirements.txt (line 6))\n",
            "  Downloading ffmpeg-1.4.tar.gz (5.1 kB)\n",
            "  Preparing metadata (setup.py) ... \u001b[?25l\u001b[?25hdone\n",
            "Requirement already satisfied: aiohttp in /usr/local/lib/python3.10/dist-packages (from -r ./requirements.txt (line 7)) (3.9.1)\n",
            "Collecting aiofiles (from -r ./requirements.txt (line 8))\n",
            "  Downloading aiofiles-23.2.1-py3-none-any.whl.metadata (9.7 kB)\n",
            "Collecting asyncio (from -r ./requirements.txt (line 9))\n",
            "  Downloading asyncio-3.4.3-py3-none-any.whl (101 kB)\n",
            "\u001b[2K     \u001b[90m━━━━━━━━━━━━━━━━━━━━━━━━━━━━━━━━━━━━━━━━\u001b[0m \u001b[32m101.8/101.8 kB\u001b[0m \u001b[31m8.0 MB/s\u001b[0m eta \u001b[36m0:00:00\u001b[0m\n",
            "\u001b[?25hCollecting pycurl (from -r ./requirements.txt (line 10))\n",
            "  Downloading pycurl-7.45.2.tar.gz (234 kB)\n",
            "\u001b[2K     \u001b[90m━━━━━━━━━━━━━━━━━━━━━━━━━━━━━━━━━━━━━━━━\u001b[0m \u001b[32m234.2/234.2 kB\u001b[0m \u001b[31m11.2 MB/s\u001b[0m eta \u001b[36m0:00:00\u001b[0m\n",
            "\u001b[?25h  Preparing metadata (setup.py) ... \u001b[?25l\u001b[?25hdone\n",
            "Requirement already satisfied: humanize in /usr/local/lib/python3.10/dist-packages (from -r ./requirements.txt (line 11)) (4.7.0)\n",
            "Collecting cryptg (from -r ./requirements.txt (line 13))\n",
            "  Downloading cryptg-0.4.0-cp310-cp310-manylinux_2_17_x86_64.manylinux2014_x86_64.whl (1.0 MB)\n",
            "\u001b[2K     \u001b[90m━━━━━━━━━━━━━━━━━━━━━━━━━━━━━━━━━━━━━━━━\u001b[0m \u001b[32m1.0/1.0 MB\u001b[0m \u001b[31m17.2 MB/s\u001b[0m eta \u001b[36m0:00:00\u001b[0m\n",
            "\u001b[?25hCollecting telethon (from -r ./requirements.txt (line 14))\n",
            "  Downloading Telethon-1.33.1.tar.gz (568 kB)\n",
            "\u001b[2K     \u001b[90m━━━━━━━━━━━━━━━━━━━━━━━━━━━━━━━━━━━━━━━━\u001b[0m \u001b[32m568.9/568.9 kB\u001b[0m \u001b[31m19.0 MB/s\u001b[0m eta \u001b[36m0:00:00\u001b[0m\n",
            "\u001b[?25h  Installing build dependencies ... \u001b[?25l\u001b[?25hdone\n",
            "  Getting requirements to build wheel ... \u001b[?25l\u001b[?25hdone\n",
            "  Preparing metadata (pyproject.toml) ... \u001b[?25l\u001b[?25hdone\n",
            "Collecting python-decouple (from -r ./requirements.txt (line 15))\n",
            "  Downloading python_decouple-3.8-py3-none-any.whl (9.9 kB)\n",
            "Collecting pyaes==1.6.1 (from pyrogram==1.4.16->-r ./requirements.txt (line 1))\n",
            "  Downloading pyaes-1.6.1.tar.gz (28 kB)\n",
            "  Preparing metadata (setup.py) ... \u001b[?25l\u001b[?25hdone\n",
            "Requirement already satisfied: pysocks==1.7.1 in /usr/local/lib/python3.10/dist-packages (from pyrogram==1.4.16->-r ./requirements.txt (line 1)) (1.7.1)\n",
            "Requirement already satisfied: charset-normalizer<4,>=2 in /usr/local/lib/python3.10/dist-packages (from requests->-r ./requirements.txt (line 3)) (3.3.2)\n",
            "Requirement already satisfied: idna<4,>=2.5 in /usr/local/lib/python3.10/dist-packages (from requests->-r ./requirements.txt (line 3)) (3.6)\n",
            "Requirement already satisfied: urllib3<3,>=1.21.1 in /usr/local/lib/python3.10/dist-packages (from requests->-r ./requirements.txt (line 3)) (2.0.7)\n",
            "Requirement already satisfied: certifi>=2017.4.17 in /usr/local/lib/python3.10/dist-packages (from requests->-r ./requirements.txt (line 3)) (2023.11.17)\n",
            "Collecting mutagen (from yt-dlp->-r ./requirements.txt (line 5))\n",
            "  Downloading mutagen-1.47.0-py3-none-any.whl.metadata (1.7 kB)\n",
            "Collecting pycryptodomex (from yt-dlp->-r ./requirements.txt (line 5))\n",
            "  Downloading pycryptodomex-3.20.0-cp35-abi3-manylinux_2_17_x86_64.manylinux2014_x86_64.whl.metadata (3.4 kB)\n",
            "Collecting websockets>=12.0 (from yt-dlp->-r ./requirements.txt (line 5))\n",
            "  Downloading websockets-12.0-cp310-cp310-manylinux_2_5_x86_64.manylinux1_x86_64.manylinux_2_17_x86_64.manylinux2014_x86_64.whl.metadata (6.6 kB)\n",
            "Collecting brotli (from yt-dlp->-r ./requirements.txt (line 5))\n",
            "  Downloading Brotli-1.1.0-cp310-cp310-manylinux_2_5_x86_64.manylinux1_x86_64.manylinux_2_12_x86_64.manylinux2010_x86_64.whl.metadata (5.5 kB)\n",
            "Requirement already satisfied: attrs>=17.3.0 in /usr/local/lib/python3.10/dist-packages (from aiohttp->-r ./requirements.txt (line 7)) (23.2.0)\n",
            "Requirement already satisfied: multidict<7.0,>=4.5 in /usr/local/lib/python3.10/dist-packages (from aiohttp->-r ./requirements.txt (line 7)) (6.0.4)\n",
            "Requirement already satisfied: yarl<2.0,>=1.0 in /usr/local/lib/python3.10/dist-packages (from aiohttp->-r ./requirements.txt (line 7)) (1.9.4)\n",
            "Requirement already satisfied: frozenlist>=1.1.1 in /usr/local/lib/python3.10/dist-packages (from aiohttp->-r ./requirements.txt (line 7)) (1.4.1)\n",
            "Requirement already satisfied: aiosignal>=1.1.2 in /usr/local/lib/python3.10/dist-packages (from aiohttp->-r ./requirements.txt (line 7)) (1.3.1)\n",
            "Requirement already satisfied: async-timeout<5.0,>=4.0 in /usr/local/lib/python3.10/dist-packages (from aiohttp->-r ./requirements.txt (line 7)) (4.0.3)\n",
            "Requirement already satisfied: rsa in /usr/local/lib/python3.10/dist-packages (from telethon->-r ./requirements.txt (line 14)) (4.9)\n",
            "Requirement already satisfied: pyasn1>=0.1.3 in /usr/local/lib/python3.10/dist-packages (from rsa->telethon->-r ./requirements.txt (line 14)) (0.5.1)\n",
            "Downloading yt_dlp-2023.12.30-py2.py3-none-any.whl (3.0 MB)\n",
            "\u001b[2K   \u001b[90m━━━━━━━━━━━━━━━━━━━━━━━━━━━━━━━━━━━━━━━━\u001b[0m \u001b[32m3.0/3.0 MB\u001b[0m \u001b[31m24.6 MB/s\u001b[0m eta \u001b[36m0:00:00\u001b[0m\n",
            "\u001b[?25hDownloading aiofiles-23.2.1-py3-none-any.whl (15 kB)\n",
            "Downloading websockets-12.0-cp310-cp310-manylinux_2_5_x86_64.manylinux1_x86_64.manylinux_2_17_x86_64.manylinux2014_x86_64.whl (130 kB)\n",
            "\u001b[2K   \u001b[90m━━━━━━━━━━━━━━━━━━━━━━━━━━━━━━━━━━━━━━━━\u001b[0m \u001b[32m130.2/130.2 kB\u001b[0m \u001b[31m14.6 MB/s\u001b[0m eta \u001b[36m0:00:00\u001b[0m\n",
            "\u001b[?25hDownloading Brotli-1.1.0-cp310-cp310-manylinux_2_5_x86_64.manylinux1_x86_64.manylinux_2_12_x86_64.manylinux2010_x86_64.whl (3.0 MB)\n",
            "\u001b[2K   \u001b[90m━━━━━━━━━━━━━━━━━━━━━━━━━━━━━━━━━━━━━━━━\u001b[0m \u001b[32m3.0/3.0 MB\u001b[0m \u001b[31m30.7 MB/s\u001b[0m eta \u001b[36m0:00:00\u001b[0m\n",
            "\u001b[?25hDownloading mutagen-1.47.0-py3-none-any.whl (194 kB)\n",
            "\u001b[2K   \u001b[90m━━━━━━━━━━━━━━━━━━━━━━━━━━━━━━━━━━━━━━━━\u001b[0m \u001b[32m194.4/194.4 kB\u001b[0m \u001b[31m18.8 MB/s\u001b[0m eta \u001b[36m0:00:00\u001b[0m\n",
            "\u001b[?25hDownloading pycryptodomex-3.20.0-cp35-abi3-manylinux_2_17_x86_64.manylinux2014_x86_64.whl (2.1 MB)\n",
            "\u001b[2K   \u001b[90m━━━━━━━━━━━━━━━━━━━━━━━━━━━━━━━━━━━━━━━━\u001b[0m \u001b[32m2.1/2.1 MB\u001b[0m \u001b[31m34.5 MB/s\u001b[0m eta \u001b[36m0:00:00\u001b[0m\n",
            "\u001b[?25hBuilding wheels for collected packages: pyaes, ffmpeg, pycurl, telethon\n",
            "  Building wheel for pyaes (setup.py) ... \u001b[?25l\u001b[?25hdone\n",
            "  Created wheel for pyaes: filename=pyaes-1.6.1-py3-none-any.whl size=26346 sha256=bd16cd14d71fae489d05682f5485b59de03c2d25af0bb7c478985dee31a16d69\n",
            "  Stored in directory: /root/.cache/pip/wheels/d6/84/5f/ea6aef85a93c7e1922486369874f4740a5642d261e09c59140\n",
            "  Building wheel for ffmpeg (setup.py) ... \u001b[?25l\u001b[?25hdone\n",
            "  Created wheel for ffmpeg: filename=ffmpeg-1.4-py3-none-any.whl size=6080 sha256=a10f018159854dbab7aebbed94a0af709e3246e619a2b72502169f35e874f91d\n",
            "  Stored in directory: /root/.cache/pip/wheels/8e/7a/69/cd6aeb83b126a7f04cbe7c9d929028dc52a6e7d525ff56003a\n",
            "  Building wheel for pycurl (setup.py) ... \u001b[?25l\u001b[?25hdone\n",
            "  Created wheel for pycurl: filename=pycurl-7.45.2-cp310-cp310-linux_x86_64.whl size=310479 sha256=74f1c1eae39fecb8f7a21a6a613350dddecc75632b2dae33579aec95df6cf4b2\n",
            "  Stored in directory: /root/.cache/pip/wheels/c7/41/22/c9eb70fde387ea0f16531256570754671f9c8571571982a4c0\n",
            "  Building wheel for telethon (pyproject.toml) ... \u001b[?25l\u001b[?25hdone\n",
            "  Created wheel for telethon: filename=Telethon-1.33.1-py3-none-any.whl size=640890 sha256=011f4c138dc360d4abaec7de0ad67d00768c9b54421265f149c99cd3f8a30e63\n",
            "  Stored in directory: /root/.cache/pip/wheels/02/0e/09/35784c6ff62f27400f8897c68f38a668038ef6f2df211ac62d\n",
            "Successfully built pyaes ffmpeg pycurl telethon\n",
            "Installing collected packages: python-decouple, pyaes, ffmpeg, brotli, asyncio, websockets, tgcrypto, pyrogram, pycurl, pycryptodomex, mutagen, cryptg, aiofiles, yt-dlp, telethon, pyromod\n",
            "Successfully installed aiofiles-23.2.1 asyncio-3.4.3 brotli-1.1.0 cryptg-0.4.0 ffmpeg-1.4 mutagen-1.47.0 pyaes-1.6.1 pycryptodomex-3.20.0 pycurl-7.45.2 pyrogram-1.4.16 pyromod-1.5 python-decouple-3.8 telethon-1.33.1 tgcrypto-1.2.5 websockets-12.0 yt-dlp-2023.12.30\n",
            "\u001b[33mWARNING: Running pip as the 'root' user can result in broken permissions and conflicting behaviour with the system package manager. It is recommended to use a virtual environment instead: https://pip.pypa.io/warnings/venv\u001b[0m\u001b[33m\n",
            "\u001b[0m"
          ]
        },
        {
          "output_type": "display_data",
          "data": {
            "application/vnd.colab-display-data+json": {
              "pip_warning": {
                "packages": [
                  "asyncio"
                ]
              }
            }
          },
          "metadata": {}
        }
      ],
      "source": [
        "!pip3 install -U pip\n",
        "!pip3 install -r ./requirements.txt"
      ]
    },
    {
      "cell_type": "code",
      "execution_count": 3,
      "metadata": {
        "colab": {
          "base_uri": "https://localhost:8080/"
        },
        "id": "Fq3LcqlcYioX",
        "outputId": "565bb629-016a-497e-8033-a44981d31f48"
      },
      "outputs": [
        {
          "output_type": "stream",
          "name": "stdout",
          "text": [
            "env: API_ID=27140795\n",
            "env: API_HASH=2a90048fa99159c9ce80db575714aad6\n",
            "env: BOT_TOKEN=6692016243:AAHCTpeS7rHcObHED6xRKdI0ZG2-Wc1EU-4\n",
            "env: AUTH_USERS=5660459302,5839999461\n"
          ]
        }
      ],
      "source": [
        "%env API_ID=27140795\n",
        "# Get from https://my.telegram.org/apps\n",
        "%env API_HASH=2a90048fa99159c9ce80db575714aad6\n",
        "# Get from https://my.telegram.org/apps\n",
        "%env BOT_TOKEN=6692016243:AAHCTpeS7rHcObHED6xRKdI0ZG2-Wc1EU-4\n",
        "# Get from https://t.me/BotFather\n",
        "%env AUTH_USERS=5660459302,5839999461\n",
        "# User ids of those who can use bot anywhere without limit"
      ]
    },
    {
      "cell_type": "code",
      "execution_count": 4,
      "metadata": {
        "colab": {
          "base_uri": "https://localhost:8080/"
        },
        "id": "OdJ3mtLmYqu1",
        "outputId": "7ee3bf10-26d2-4489-a014-029418ff444d"
      },
      "outputs": [
        {
          "output_type": "stream",
          "name": "stdout",
          "text": [
            "Traceback (most recent call last):\n",
            "  File \"/content/tecttoovvvv/main.py\", line 319, in <module>\n",
            "    bot.run()\n",
            "  File \"/usr/local/lib/python3.10/dist-packages/pyrogram/methods/utilities/run.py\", line 58, in run\n",
            "    self.start()\n",
            "  File \"/usr/local/lib/python3.10/dist-packages/pyrogram/sync.py\", line 66, in async_to_sync_wrap\n",
            "    return loop.run_until_complete(coroutine)\n",
            "  File \"/usr/lib/python3.10/asyncio/base_events.py\", line 649, in run_until_complete\n",
            "    return future.result()\n",
            "  File \"/usr/local/lib/python3.10/dist-packages/pyrogram/methods/utilities/start.py\", line 52, in start\n",
            "    is_authorized = await self.connect()\n",
            "  File \"/usr/local/lib/python3.10/dist-packages/pyrogram/methods/auth/connect.py\", line 46, in connect\n",
            "    await self.session.start()\n",
            "  File \"/usr/local/lib/python3.10/dist-packages/pyrogram/session/session.py\", line 142, in start\n",
            "    raise e\n",
            "  File \"/usr/local/lib/python3.10/dist-packages/pyrogram/session/session.py\", line 109, in start\n",
            "    await self._send(raw.functions.Ping(ping_id=0), timeout=self.START_TIMEOUT)\n",
            "  File \"/usr/local/lib/python3.10/dist-packages/pyrogram/session/session.py\", line 334, in _send\n",
            "    raise BadMsgNotification(result.error_code)\n",
            "pyrogram.errors.BadMsgNotification: [16] The msg_id is too low, the client time has to be synchronized.\n"
          ]
        }
      ],
      "source": [
        "!python3 main.py"
      ]
    }
  ],
  "metadata": {
    "colab": {
      "provenance": [],
      "authorship_tag": "ABX9TyOG0Vof8iKAidN+IH3+RVh0",
      "include_colab_link": true
    },
    "kernelspec": {
      "display_name": "Python 3",
      "name": "python3"
    },
    "language_info": {
      "name": "python"
    }
  },
  "nbformat": 4,
  "nbformat_minor": 0
}